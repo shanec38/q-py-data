{
 "cells": [
  {
   "cell_type": "markdown",
   "id": "specified-concord",
   "metadata": {},
   "source": [
    "# Installing and Using Anaconda/Miniconda\n",
    "\n",
    "## What/Why?\n",
    "\n",
    "Anaconda (the company) has a variety of products, some open source and others closed source.\n",
    "\n",
    "However, we are interested in Anaconda the Python environment management tool (one of Anaconda's earlier projects and still a key part of their offering).\n",
    "\n",
    "Anaconda will allow us to easily\n",
    "* Manage different environments for our different Python projects\n",
    "    * including different version of Python\n",
    "    * different sets of dependencies\n",
    "* Retrieve relevant versions of Python ecosystem tools\n",
    "* Avoid and/or resolve version and dependency conflicts when we need to change or upgrade packages\n",
    "* Provide/share environment descriptions with our co-workers so that we are all running the same environment\n",
    "    * Less \"it works on my machine\"\n",
    "\n",
    "You're actually using an Anaconda (\"conda\" for short) environment right now! Look in `binder/environment.yml`\n",
    "\n",
    "There are a few Anaconda-related tools: we're going to focus on a slimmed-down tool called \"Miniconda\" and our first demos and hands-on exercise will be installing Miniconda and creating an environment from scratch.\n",
    "\n",
    "__Why?__ This notebook environment is nice, and you said we were already running a conda env?!\n",
    "\n",
    "When folks start out working with Python, the setup process for conda and JupyterLab (our notebook environment) can be a little mysterious. We're going to remove all the mystery so that everyone is comfortable installing and using these tools wherever they're needed."
   ]
  },
  {
   "cell_type": "markdown",
   "id": "tough-meaning",
   "metadata": {},
   "source": [
    "## Instructions\n",
    "\n",
    "These instructions are for your reference now and in the future -- but they are the one project we'll do that cannot run in this present JupyterLab setup. Why? Because we want to practice configuring the tool that lies __underneath__ the JupyterLab we're running. \n",
    "\n",
    "So we're going to \"borrow\" a clean VM to work on. \n",
    "\n",
    "### Part 1: Install Conda\n",
    "\n",
    "1. Open a new browser at: https://www.katacoda.com/scenario-examples/courses/environment-usages/ubuntu-2004\n",
    "\n",
    "2. You're root. But often, you won't be, and conda doesn't require root. Make a new user called demo by running `adduser demo`\n",
    "\n",
    "3. Become demo: `su demo` and go home `cd`\n",
    "\n",
    "4. Download Miniconda: `wget https://repo.anaconda.com/miniconda/Miniconda3-latest-Linux-x86_64.sh`\n",
    "\n",
    "5. Make the Miniconda script executable: `chmod a+x Miniconda3-latest-Linux-x86_64.sh`\n",
    "\n",
    "6. Run the script (`./Miniconda3-latest-Linux-x86_64.sh`) and work through the install prompts. Choose __yes__ for the install location and for initializing Miniconda\n",
    "\n",
    "At this point, conda is mostly set up ... but the current shell didn't start with the conda helper shortcuts. \n",
    "\n",
    "7. Start a new shell: `bash`\n",
    "\n",
    "8. Type `conda` and you should now see a help message. That's success!"
   ]
  },
  {
   "cell_type": "markdown",
   "id": "suspected-compact",
   "metadata": {},
   "source": [
    "### Part 2: Create an environment and install JupyterLab\n",
    "\n",
    "(Note: you may want to view or download a Conda cheatsheet from https://docs.conda.io/projects/conda/en/4.6.0/_downloads/52a95608c49671267e40c689e0bc00ca/conda-cheatsheet.pdf)\n",
    "\n",
    "1. Create a new conda env with Python 3.8: `conda create -n mydemo python==3.8`\n",
    "\n",
    "2. Accept the prompt(s): choose \"y\"\n",
    "\n",
    "3. List you environments: `conda env list`\n",
    "\n",
    "4. Switch from \"base\" to your new \"mydemo\" env: `conda activate mydemo`\n",
    "\n",
    "5. View the currently installed packages: `conda list`\n",
    "\n",
    "Not much there. Thats ok.\n",
    "\n",
    "6. Install JupyterLab: `conda install jupyterlab`\n",
    "\n",
    "At this point, you're on your way! You could install additional dependencies, such as NumPy or Pandas, or just..."
   ]
  },
  {
   "cell_type": "markdown",
   "id": "french-abuse",
   "metadata": {},
   "source": [
    "### Part 3: Try out JupyterLab\n",
    "\n",
    "1. Punch in `jupyter lab --no-browser --ip 0.0.0.0` (since the browser is remote, not on the host, and we want to bind to all NICs)\n",
    "\n",
    "2. You'll see a URL with a \"token=\" param ... copy that token!\n",
    "\n",
    "3. Click the \"+\" (new tab) button in Katacoda, and choose \"Select port to view on Host 1\" ... Enter 8888 (default JupyterLab port)\n",
    "\n",
    "4. Where prompted for a password or token, paste the token you copied in Step 2\n",
    "\n",
    "5. Wait a few seconds and you should have your own notebook server running!\n",
    "\n",
    "6. Try a calculation in a new notebook. Note that because of the proxying delays of Katacoda, it may take up to 10 seconds for your Python kernel (the Python VM \"behind\" the notebook) to be attached. If you run code before the kernel is ready, you won't see an error, but you won't see any output either :(\n",
    "\n",
    "### Congratulations! \n",
    "\n",
    "You now know the basics of installing and operating conda and JupyterLab.\n",
    "\n",
    "> Note that if you are doing this on a local machine (e.g., your own laptop), you'll be able to skip a number of steps and all of the command-line params!\n",
    "\n",
    "Even if you never need to set this up in the future, you can use this to create a local instance of our training materials:"
   ]
  },
  {
   "cell_type": "markdown",
   "id": "hidden-active",
   "metadata": {},
   "source": [
    "### Bonus Concepts\n",
    "\n",
    "Channels: https://docs.conda.io/projects/conda/en/latest/user-guide/concepts/channels.html\n",
    "\n",
    "Conda-Forge: https://conda-forge.org/"
   ]
  },
  {
   "cell_type": "markdown",
   "id": "determined-robinson",
   "metadata": {},
   "source": [
    "### Get Your Own Local Copy of the Courseware Materials\n",
    "\n",
    "For the class we'll use the cloud-based Binder version, so no need to install! But You May Want to Get/Keep the Materials for Review Later\n",
    "\n",
    "Clone the github repo during class (or \"download as zip\") from github. Link will be provided in the chat.\n",
    "\n",
    "__Running the Environment Locally__\n",
    "\n",
    "The easiest way to get everything set up locally (and also keep everything encapsulated, so it won't mess with your other Python projects) is to download and install Anaconda (or Miniconda) from https://www.anaconda.com/distribution/\n",
    "\n",
    "Anaconda lets you easily manage multiple, isolated Python environments, each with their own dependencies.\n",
    "\n",
    "Once you have Anaconda set up, the basic way to install the environment is to create a new conda env for this class with the `--file` option and point at `binder/environment.yml`\n",
    "\n",
    "If you're in a hurry, there's a Conda cheat sheet with basic details at https://docs.conda.io/projects/conda/en/4.6.0/_downloads/52a95608c49671267e40c689e0bc00ca/conda-cheatsheet.pdf\n",
    "\n",
    "Once you're conda environment is set up, and you've switched to it, and you're in the root of the course materials folder, you can run `jupyter lab` at the command line to launch a browser that should come up very much like this one!"
   ]
  },
  {
   "cell_type": "code",
   "execution_count": null,
   "id": "hybrid-miracle",
   "metadata": {},
   "outputs": [],
   "source": []
  }
 ],
 "metadata": {
  "kernelspec": {
   "display_name": "Python 3",
   "language": "python",
   "name": "python3"
  },
  "language_info": {
   "codemirror_mode": {
    "name": "ipython",
    "version": 3
   },
   "file_extension": ".py",
   "mimetype": "text/x-python",
   "name": "python",
   "nbconvert_exporter": "python",
   "pygments_lexer": "ipython3",
   "version": "3.8.6"
  }
 },
 "nbformat": 4,
 "nbformat_minor": 5
}
