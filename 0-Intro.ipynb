{
 "cells": [
  {
   "cell_type": "markdown",
   "metadata": {},
   "source": [
    "# Data Munging (Wrangling) with Python and PyData\n",
    "\n",
    "## Administrative Details\n",
    "\n",
    "### Instructor: Adam Breindel\n",
    "\n",
    "<img src=\"https://materials.s3.amazonaws.com/i/med-head.jpg\" width=200>"
   ]
  },
  {
   "cell_type": "markdown",
   "metadata": {},
   "source": [
    "__LinkedIn__ - https://www.linkedin.com/in/adbreind\n",
    "\n",
    "__Email__ - <tt>adbreind@gmail.com</tt>\n",
    "\n",
    "__Twitter__ - <tt>@adbreind</tt>\n",
    "\n",
    "* 20+ years building systems for startups and large enterprises\n",
    "* 10+ years teaching front- and back-end technology\n",
    "\n",
    "__Fun large-scale data projects__\n",
    "* Streaming neural net + decision tree fraud scoring\n",
    "* Realtime & offline analytics for banking\n",
    "* Music synchronization and licensing for networked jukeboxes\n",
    "\n",
    "__Industries__\n",
    "* Finance / Insurance\n",
    "* Travel, Media / Entertainment\n",
    "* Energy, Government\n",
    "* Advertising/Social Media, & more\n",
    "\n",
    "__Currently (Besides Training)__\n",
    "* Consulting on data engineering and machine learning\n",
    "* Development\n",
    "* Various advisory roles"
   ]
  },
  {
   "cell_type": "markdown",
   "metadata": {},
   "source": [
    "### Schedule\n",
    "\n",
    "Session 1: Intro\n",
    "- Conda environments\n",
    "- IPython, Jupyter notebooks, JupyterLab\n",
    "- Pandas vs. \"regular\" Python \n",
    "- Loading/saving data using various sources, formats\n",
    "- Basic filtering (rows) and projecting (columns)\n",
    "\n",
    "Session 2: Pandas\n",
    "- Projections including built-in and custom functions\n",
    "- Math and String processing within Pandas\n",
    "- Working with dates\n",
    "- Aggregations\n",
    "- Joins\n",
    "- Finding and managing missing data\n",
    "\n",
    "Session 3: Advanced Pandas\n",
    "- Categoricals\n",
    "- Time Series\n",
    "- Rolling aggregations \n",
    "- Using the index\n",
    "- Pivoting and stack/unstack \n",
    "\n",
    "Session 4: N-Dimensional Array Data / NumPy\n",
    "- Example use cases for NumPy\n",
    "- Reading and writing \n",
    "- Stacking, slicing, shaping\n",
    "- Understanding broadcasts\n",
    "- Applying functions to data\n",
    "- \"Fancy\" indexing\n",
    "\n",
    "Session 5: Natural Language \n",
    "- Tokenizing\n",
    "- Bag-of-words techniques\n",
    "- Extracting structure and role with SpaCy\n",
    "- Embeddings\n",
    "\n",
    "Session 6: Out-of-Core (larger than memory) Data\n",
    "- The large-data landscape for Python data munging\n",
    "- Extending Pandas with Dask Dataframe\n",
    "- Extending NumPy with Dask Array\n",
    "- Working with text and other non-tabular data"
   ]
  }
 ],
 "metadata": {
  "kernelspec": {
   "display_name": "Python 3",
   "language": "python",
   "name": "python3"
  },
  "language_info": {
   "codemirror_mode": {
    "name": "ipython",
    "version": 3
   },
   "file_extension": ".py",
   "mimetype": "text/x-python",
   "name": "python",
   "nbconvert_exporter": "python",
   "pygments_lexer": "ipython3",
   "version": "3.8.6"
  }
 },
 "nbformat": 4,
 "nbformat_minor": 4
}
