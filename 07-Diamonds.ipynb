{
 "cells": [
  {
   "cell_type": "markdown",
   "id": "cubic-delhi",
   "metadata": {},
   "source": [
    "# Lab: Diamonds Data\n",
    "\n",
    "In this lab, we'll practice working with a dataset of diamond sales. This dataset, where each records corresponds to the sale of a specific diamond, is similar to a lot of real transation datasets (and other tabular business datasets).\n",
    "\n",
    "We start with one file, `diamonds1.csv`, which contains several properties for each diamond sale:\n",
    "* carat weight\n",
    "* cut (a grade of cut quality)\n",
    "* color (a grade of color purity)\n",
    "* clarity (a grade of flaws or flawlessness)\n",
    "* depth, table (both measurements that describe the shape, the details are not important for today)\n",
    "* sale price (in US Dollars)\n",
    "\n",
    "We also have a file we can use to *enrich* the data, `diamonds2.csv`, which contains measurements of each diamond in millimeters in each of the 3 dimensions (labeled x, y, and z).\n",
    "\n",
    "### 1. Enrich the data...\n",
    "\n",
    "Join the two tables (the records are in the same order within each file) to create a new dataframe called `diamonds` with all of the properties"
   ]
  },
  {
   "cell_type": "code",
   "execution_count": null,
   "id": "hidden-wilson",
   "metadata": {},
   "outputs": [],
   "source": []
  },
  {
   "cell_type": "markdown",
   "id": "covered-paradise",
   "metadata": {},
   "source": [
    "## 2. Look for missing values\n",
    "\n",
    "Use `.count` to look for missing values.\n",
    "\n",
    "*Extra credit: use `isnull()` to check for NaN values as well*"
   ]
  },
  {
   "cell_type": "code",
   "execution_count": null,
   "id": "banner-incident",
   "metadata": {},
   "outputs": [],
   "source": []
  },
  {
   "cell_type": "markdown",
   "id": "elect-listing",
   "metadata": {},
   "source": [
    "## 3. Impossible values...\n",
    "\n",
    "Let's look for values that are formally legal, but don't make business sense. \n",
    "Start with `.describe()`"
   ]
  },
  {
   "cell_type": "code",
   "execution_count": null,
   "id": "excited-amazon",
   "metadata": {},
   "outputs": [],
   "source": []
  },
  {
   "cell_type": "markdown",
   "id": "official-harvey",
   "metadata": {},
   "source": [
    "## 4. Categories\n",
    "\n",
    "Which columns might be categorical columns?\n",
    "\n",
    "Choose one and generate a list of unique values and the number of records with each value.\n",
    "\n",
    "Next, when you've confirmed that it has only a small number of unique values, turn it into a Pandas Categorical.\n",
    "\n",
    "Replace the original column with the new Pandas Categorical column and check the dataframe's `dtypes`\n",
    "\n",
    "*Extra credit: render a histogram for this column*"
   ]
  },
  {
   "cell_type": "code",
   "execution_count": null,
   "id": "blessed-cameroon",
   "metadata": {},
   "outputs": [],
   "source": []
  },
  {
   "cell_type": "markdown",
   "id": "clear-holmes",
   "metadata": {},
   "source": [
    "## 5. Feature transformation\n",
    "\n",
    "Inspect the precision present in the x, y, and z columns.\n",
    "\n",
    "Replace those features with versions rounded to 1 decimal place."
   ]
  },
  {
   "cell_type": "code",
   "execution_count": null,
   "id": "intimate-crime",
   "metadata": {},
   "outputs": [],
   "source": []
  },
  {
   "cell_type": "markdown",
   "id": "oriented-julian",
   "metadata": {},
   "source": [
    "## 6. Ordering\n",
    "\n",
    "Sort the dataframe by carat weight (lowest to highest)"
   ]
  },
  {
   "cell_type": "code",
   "execution_count": null,
   "id": "adopted-roots",
   "metadata": {},
   "outputs": [],
   "source": []
  },
  {
   "cell_type": "markdown",
   "id": "humanitarian-resistance",
   "metadata": {},
   "source": [
    "## 7. Exporting transformed data\n",
    "\n",
    "Write the new version of the dataset out to JSON.\n",
    "\n",
    "Inspect the JSON (hint: it's a large file; the easiest way to take a look at the beginning is with the Linux `head` command. You can use `!` to run a Linux command, and the `-c numbytes` command-line parameter to read just `numbytes` from the file)\n",
    "\n",
    "You'll notice something a little non-standard about the JSON output. Re-write the JSON output in the more common (REST-style) arrangement (hint: you just need to set one `kwarg` when you write out the file in order to make this change)"
   ]
  },
  {
   "cell_type": "code",
   "execution_count": null,
   "id": "deadly-destination",
   "metadata": {},
   "outputs": [],
   "source": []
  },
  {
   "cell_type": "markdown",
   "id": "heated-launch",
   "metadata": {},
   "source": [
    "## 8. Bucketing and exploring\n",
    "\n",
    "Compute the stats for the data for each half-carat \"bucket\" of diamonds.\n",
    "\n",
    "Specifically:\n",
    "* Create a new column which contains the carat weight rounded to the nearest 0.5 carats\n",
    "* For each bucket, find summary statistics for the numeric diamond properties\n",
    "* *Extra credit: try to stack, unstack, or pivot so that the carat buckets and the stats are rows and only the numeric diamonds properties are columns*"
   ]
  },
  {
   "cell_type": "code",
   "execution_count": null,
   "id": "golden-poverty",
   "metadata": {},
   "outputs": [],
   "source": []
  }
 ],
 "metadata": {
  "kernelspec": {
   "display_name": "Python 3",
   "language": "python",
   "name": "python3"
  },
  "language_info": {
   "codemirror_mode": {
    "name": "ipython",
    "version": 3
   },
   "file_extension": ".py",
   "mimetype": "text/x-python",
   "name": "python",
   "nbconvert_exporter": "python",
   "pygments_lexer": "ipython3",
   "version": "3.8.6"
  }
 },
 "nbformat": 4,
 "nbformat_minor": 5
}
