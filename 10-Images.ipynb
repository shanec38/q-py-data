{
 "cells": [
  {
   "cell_type": "markdown",
   "metadata": {},
   "source": [
    "# Working with Images and OpenCV\n",
    "\n",
    "## How are images represented?\n",
    "\n",
    "* Pixels\n",
    "* Channels\n",
    "* Colorspace\n",
    "* Encoding/Compression (when serialized)\n",
    "\n",
    "## What is OpenCV?\n",
    "\n",
    "> OpenCV (Open Source Computer Vision Library) is an open source computer vision and machine learning software library. OpenCV was built to provide a common infrastructure for computer vision applications and to accelerate the use of machine perception in the commercial products.\n",
    "\n",
    "<img src='images/opencv-logo-1.png' width=201 style='background:black'>\n",
    "\n",
    "Key properties:\n",
    "* BSD license\n",
    "* 2500+ optimized algorithms\n",
    "* 47,000+ users, 18 million+ downloads\n",
    "* Large corporate users include Google, Yahoo, Microsoft, Intel, IBM, Sony, Honda, Toyota \n",
    "* Support for C++, Python, Java, MATLAB and Windows/Linux/Android/MacOS\n",
    "\n",
    "A few use cases:\n",
    "* stitching streetview images together\n",
    "* detecting intrusions in surveillance video\n",
    "* monitoring mine equipment\n",
    "* helping robots navigate and pick up objects\n",
    "* detection of swimming pool drowning accidents in Europe\n",
    "* interactive art\n",
    "* checking runways for debris in Turkey\n",
    "* inspecting labels on products in factories\n",
    "\n",
    "We've seen how to create our own images from raw data using `matplotlib` but how can we work with images from other sources?\n",
    "\n",
    "## Reading Images with OpenCV"
   ]
  },
  {
   "cell_type": "code",
   "execution_count": null,
   "metadata": {},
   "outputs": [],
   "source": [
    "import numpy as np\n",
    "import cv2 as cv\n",
    "from matplotlib import pyplot as plt\n",
    "\n",
    "img = cv.imread('images/cat.jpg')"
   ]
  },
  {
   "cell_type": "markdown",
   "metadata": {},
   "source": [
    "Let's look at that image"
   ]
  },
  {
   "cell_type": "code",
   "execution_count": null,
   "metadata": {},
   "outputs": [],
   "source": [
    "img"
   ]
  },
  {
   "cell_type": "markdown",
   "metadata": {},
   "source": [
    "It's a NumPy array!"
   ]
  },
  {
   "cell_type": "code",
   "execution_count": null,
   "metadata": {},
   "outputs": [],
   "source": [
    "type(img)"
   ]
  },
  {
   "cell_type": "code",
   "execution_count": null,
   "metadata": {},
   "outputs": [],
   "source": [
    "img.shape"
   ]
  },
  {
   "cell_type": "markdown",
   "metadata": {},
   "source": [
    "## Showing Images in a Notebook\n",
    "\n",
    "Sooner or later, we're going to want to look at our images. Since they are NumPy arrays, we can use `matplotlib` to render them as images, just like in our previous demo/exercises."
   ]
  },
  {
   "cell_type": "code",
   "execution_count": null,
   "metadata": {},
   "outputs": [],
   "source": [
    "plt.rcParams[\"figure.figsize\"] = (15,10)\n",
    "\n",
    "plt.imshow(img)"
   ]
  },
  {
   "cell_type": "markdown",
   "metadata": {},
   "source": [
    "Something's a little off in this picture ...\n",
    "\n",
    "If it's not clear there's a problem, open the raw images/cat.jpg in your browser and compare.\n",
    "\n",
    "The problem is that OpenCV tensors have color channels in BGR format, but `imshow` expects RGB. \n",
    "\n",
    "How can we fix this? There are lots of options...\n",
    "1. we could swap around chunks of the image tensor with NumPy\n",
    "2. we could adjust matplotlib to render color channels differently\n",
    "3. we can ask OpenCV to re-encode our data to a different arrangement\n",
    "\n",
    "__We'll try #3.__"
   ]
  },
  {
   "cell_type": "code",
   "execution_count": null,
   "metadata": {},
   "outputs": [],
   "source": [
    "img2 = cv.cvtColor(img, cv.COLOR_BGR2RGB)\n",
    "\n",
    "plt.imshow(img2)"
   ]
  },
  {
   "cell_type": "markdown",
   "metadata": {},
   "source": [
    "Much better! How about grayscale?"
   ]
  },
  {
   "cell_type": "code",
   "execution_count": null,
   "metadata": {},
   "outputs": [],
   "source": [
    "img3 = cv.cvtColor(img2, cv.COLOR_RGB2GRAY)\n",
    "\n",
    "plt.imshow(img3, cmap='gray')"
   ]
  },
  {
   "cell_type": "code",
   "execution_count": null,
   "metadata": {},
   "outputs": [],
   "source": [
    "plt.imshow(img2[:,:,1], cmap='Greens')"
   ]
  },
  {
   "cell_type": "code",
   "execution_count": null,
   "metadata": {},
   "outputs": [],
   "source": [
    "img2.shape # recall the axis order is HEIGHT (ROWS), WIDTH (COLUMNS), CHANNEL (COLOR PLANES)"
   ]
  },
  {
   "cell_type": "markdown",
   "metadata": {},
   "source": [
    "## Lab: Image manipulation and steganography\n",
    "\n",
    "Steganography is hiding messages inside of an image. In this lab, we'll hide an \"important\" map inside the image of a pumpkin.\n",
    "\n",
    "The map image is here"
   ]
  },
  {
   "cell_type": "code",
   "execution_count": null,
   "metadata": {},
   "outputs": [],
   "source": [
    "p = cv.imread('images/persepolis.png')\n",
    "plt.imshow(p, cmap='gray')"
   ]
  },
  {
   "cell_type": "markdown",
   "metadata": {},
   "source": [
    "And the pumpkin is here"
   ]
  },
  {
   "cell_type": "code",
   "execution_count": null,
   "metadata": {},
   "outputs": [],
   "source": [
    "pumpkin = cv.imread('images/pumpkin.jpg')\n",
    "pumpkin = cv.cvtColor(pumpkin, cv.COLOR_BGR2RGB)\n",
    "plt.imshow(pumpkin)"
   ]
  },
  {
   "cell_type": "markdown",
   "metadata": {},
   "source": [
    "#### Lab Plan\n",
    "\n",
    "Encode:\n",
    "1. Ensure the map image is pure black and white\n",
    "2. Ensure the pumpkin image is large enough to \"hide\" the map image\n",
    "3. Choose one color channel in the pumpkin image, and adjust all the intensity values to even numbers\n",
    "4. Where the map image is white, add +1 to the selected channel in the pumpkin image.\n",
    "5. Render the adjusted pumpkin image, to ensure that the changes are not visible\n",
    "6. Save the image (pumpkin with hidden map). Make sure to choose a format that is not lossy, since we'll need to recover our small manipulations later.\n",
    "\n",
    "Decode:\n",
    "1. Load the image\n",
    "2. Extract the color channel with the hidden info, and make a bitmap where odd pixel values are white, others are black\n",
    "3. Render that channel, and you should find the map!"
   ]
  },
  {
   "cell_type": "markdown",
   "metadata": {},
   "source": [
    "How can we make see if the map is truly black/white (and not grayscale)?\n",
    "\n",
    "NumPy can show is a histogram which corresponds here to grayscale levels"
   ]
  },
  {
   "cell_type": "code",
   "execution_count": null,
   "metadata": {},
   "outputs": [],
   "source": [
    "np.histogram(p)"
   ]
  },
  {
   "cell_type": "markdown",
   "metadata": {},
   "source": [
    "If the image were not pure B/W, we could apply a thresholding operation to fix it. But it looks like we're ok."
   ]
  },
  {
   "cell_type": "markdown",
   "metadata": {},
   "source": [
    "Recall the pumpkin image shape is"
   ]
  },
  {
   "cell_type": "code",
   "execution_count": null,
   "metadata": {},
   "outputs": [],
   "source": [
    "pumpkin.shape"
   ]
  },
  {
   "cell_type": "markdown",
   "metadata": {},
   "source": [
    "and the map shape is"
   ]
  },
  {
   "cell_type": "code",
   "execution_count": null,
   "metadata": {},
   "outputs": [],
   "source": [
    "p.shape"
   ]
  },
  {
   "cell_type": "markdown",
   "metadata": {},
   "source": [
    "So we will need to do some scaling. HINT: scale the pumpkin image up, it will make things a little easier."
   ]
  }
 ],
 "metadata": {
  "kernelspec": {
   "display_name": "Python 3",
   "language": "python",
   "name": "python3"
  },
  "language_info": {
   "codemirror_mode": {
    "name": "ipython",
    "version": 3
   },
   "file_extension": ".py",
   "mimetype": "text/x-python",
   "name": "python",
   "nbconvert_exporter": "python",
   "pygments_lexer": "ipython3",
   "version": "3.8.6"
  }
 },
 "nbformat": 4,
 "nbformat_minor": 4
}
