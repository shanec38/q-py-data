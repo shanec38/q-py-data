{
 "cells": [
  {
   "cell_type": "markdown",
   "metadata": {},
   "source": [
    "### Activity: CSV"
   ]
  },
  {
   "cell_type": "code",
   "execution_count": null,
   "metadata": {},
   "outputs": [],
   "source": [
    "import pandas as pd\n",
    "\n",
    "df = pd.read_csv(\"data/housing.csv\", comment=\"#\")"
   ]
  },
  {
   "cell_type": "code",
   "execution_count": null,
   "metadata": {},
   "outputs": [],
   "source": [
    "df"
   ]
  },
  {
   "cell_type": "code",
   "execution_count": null,
   "metadata": {},
   "outputs": [],
   "source": [
    "df.describe()"
   ]
  },
  {
   "cell_type": "markdown",
   "metadata": {},
   "source": [
    "Some basic queries..."
   ]
  },
  {
   "cell_type": "code",
   "execution_count": null,
   "metadata": {},
   "outputs": [],
   "source": [
    "df[df['in_sf'] == 0].mean()"
   ]
  },
  {
   "cell_type": "code",
   "execution_count": null,
   "metadata": {},
   "outputs": [],
   "source": [
    "df[df['in_sf'] == 0].mean()['price']"
   ]
  },
  {
   "cell_type": "code",
   "execution_count": null,
   "metadata": {},
   "outputs": [],
   "source": [
    "df[df['in_sf'] == 0].mean()[['price', 'sqft']]"
   ]
  },
  {
   "cell_type": "code",
   "execution_count": null,
   "metadata": {},
   "outputs": [],
   "source": [
    "df.plot('sqft', 'price', 'scatter')"
   ]
  },
  {
   "cell_type": "code",
   "execution_count": null,
   "metadata": {},
   "outputs": [],
   "source": [
    "? df.plot"
   ]
  },
  {
   "cell_type": "code",
   "execution_count": null,
   "metadata": {},
   "outputs": [],
   "source": [
    "ny = df[df.in_sf == 0]\n",
    "ny.plot('sqft', 'price', kind='scatter')"
   ]
  },
  {
   "cell_type": "code",
   "execution_count": null,
   "metadata": {},
   "outputs": [],
   "source": [
    "sf = df[df.in_sf == 1]\n",
    "sf.plot('sqft', 'price', 'scatter')"
   ]
  },
  {
   "cell_type": "code",
   "execution_count": null,
   "metadata": {},
   "outputs": [],
   "source": [
    "ny.sqft.hist(bins=40)"
   ]
  },
  {
   "cell_type": "markdown",
   "metadata": {},
   "source": [
    "### Lab Activity\n",
    "\n",
    "1. What is the most expensive NY property (in price per square foot)? In SF?\n",
    "2. What are the top 10 highest elevation properties in SF? In NY?\n",
    "3. If you *didn't know* whether a property was in SF or NY, what info in the dataset (besides the `in_sf` flag, obviously) might be useful to figure out the property's location?\n",
    "4. How well would that work? Why?\n",
    "5. Do properties seem to have a \"price per bedroom\"? How would you ask (or answer) that kind of question?\n",
    "6. In SF, higher elevation properties might have a view, or they might be in nice neighborhoods like Nob Hill or Russian Hill. Does the elevation correlate with price?\n",
    "7. Write the dataset out as JSON. Inspect the JSON. Can you imagine some scenarios where this is *not* what you wanted in the JSON version? See if you can \"fix\" it to a more common JSON representation."
   ]
  },
  {
   "cell_type": "code",
   "execution_count": null,
   "metadata": {},
   "outputs": [],
   "source": []
  }
 ],
 "metadata": {
  "kernelspec": {
   "display_name": "Python 3",
   "language": "python",
   "name": "python3"
  },
  "language_info": {
   "codemirror_mode": {
    "name": "ipython",
    "version": 3
   },
   "file_extension": ".py",
   "mimetype": "text/x-python",
   "name": "python",
   "nbconvert_exporter": "python",
   "pygments_lexer": "ipython3",
   "version": "3.8.6"
  },
  "name": "01-Data",
  "notebookId": 2375086480052240
 },
 "nbformat": 4,
 "nbformat_minor": 4
}
