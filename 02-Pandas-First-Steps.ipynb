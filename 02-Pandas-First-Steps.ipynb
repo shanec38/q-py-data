{
 "cells": [
  {
   "cell_type": "markdown",
   "id": "dominant-austria",
   "metadata": {},
   "source": [
    "# Pandas: First Steps\n",
    "\n",
    "## What is Pandas?\n",
    "\n",
    "* The most common/popular library for tabular data work in Python\n",
    "* Provides straightforward APIs for\n",
    "  * Reading/writing data to/from most common formats\n",
    "  * Filtering, projecting, and generally transforming data (including pivoting and joins)\n",
    "  * Indexing for fast access to data (with optional ordering and multi-tier index patterns)\n",
    "  * Applying grouping/aggregation and rolling/window operations\n",
    "  * Applying user-provided (custom) functions\n",
    "* How is Pandas different from Python? Is it just an API wrapper over Python data structures? __No__\n",
    "  * Pandas relies on NumPy to provide efficient contiguously allocated native data representations\n",
    "  * Pandas leverages NumPy and Cython to provide native-code implementation of many operations"
   ]
  },
  {
   "cell_type": "markdown",
   "id": "handed-sapphire",
   "metadata": {
    "colab_type": "text",
    "id": "ew7BOPO6E3OM"
   },
   "source": [
    "<sup>*Credit for parts of this notebook: Takenori Takaki (https://github.com/takenory) for converting to Jupyter from http://pandas.pydata.org/pandas-docs/stable/10min.html and the Pandas team*</sup>"
   ]
  },
  {
   "cell_type": "markdown",
   "id": "medical-bargain",
   "metadata": {},
   "source": [
    "Let's see an example"
   ]
  },
  {
   "cell_type": "code",
   "execution_count": null,
   "id": "periodic-mongolia",
   "metadata": {},
   "outputs": [],
   "source": [
    "import pandas as pd\n",
    "\n",
    "df = pd.DataFrame({'Team':['Tigers', 'Sharks', 'Cobras'], 'Wins': [7, 11, 3]})\n",
    "\n",
    "df"
   ]
  },
  {
   "cell_type": "code",
   "execution_count": null,
   "id": "stretch-technician",
   "metadata": {},
   "outputs": [],
   "source": [
    "df['Games'] = [10, 10, 9]\n",
    "\n",
    "df"
   ]
  },
  {
   "cell_type": "markdown",
   "id": "hispanic-stream",
   "metadata": {
    "colab_type": "text",
    "id": "HNUu7u5AE3SR"
   },
   "source": [
    "## Getting Data In/Out"
   ]
  },
  {
   "cell_type": "markdown",
   "id": "robust-offer",
   "metadata": {
    "colab_type": "text",
    "id": "Bj18bnTWE3SR"
   },
   "source": [
    "### CSV\n",
    "[Writing to a csv file](http://pandas.pydata.org/pandas-docs/stable/io.html#io-store-in-csv)"
   ]
  },
  {
   "cell_type": "code",
   "execution_count": null,
   "id": "local-hudson",
   "metadata": {
    "colab": {},
    "colab_type": "code",
    "id": "XoW6t_UmE3SR"
   },
   "outputs": [],
   "source": [
    "df.to_csv('foo.csv', index=False)"
   ]
  },
  {
   "cell_type": "markdown",
   "id": "optimum-danish",
   "metadata": {
    "colab_type": "text",
    "id": "8Q_kqPJvE3SV"
   },
   "source": [
    "[Reading from a csv file](http://pandas.pydata.org/pandas-docs/stable/io.html#io-read-csv-table)"
   ]
  },
  {
   "cell_type": "code",
   "execution_count": null,
   "id": "understanding-boxing",
   "metadata": {
    "colab": {},
    "colab_type": "code",
    "id": "uSsFL-yrE3SV"
   },
   "outputs": [],
   "source": [
    "pd.read_csv('foo.csv')"
   ]
  },
  {
   "cell_type": "markdown",
   "id": "contrary-idaho",
   "metadata": {
    "colab_type": "text",
    "id": "QmQ1HOmEE3SW"
   },
   "source": [
    "### HDF5\n",
    "Reading and writing to [HDFStores](http://pandas.pydata.org/pandas-docs/stable/io.html#io-hdf5)\n",
    "\n",
    "Writing to a HDF5 Store"
   ]
  },
  {
   "cell_type": "code",
   "execution_count": null,
   "id": "korean-prophet",
   "metadata": {
    "colab": {},
    "colab_type": "code",
    "id": "az1FgZA5E3SW"
   },
   "outputs": [],
   "source": [
    "df.to_hdf('foo.h5','df')"
   ]
  },
  {
   "cell_type": "markdown",
   "id": "republican-spiritual",
   "metadata": {
    "colab_type": "text",
    "id": "u2U5A3DjE3SX"
   },
   "source": [
    "Reading from a HDF5 Store"
   ]
  },
  {
   "cell_type": "code",
   "execution_count": null,
   "id": "premier-patent",
   "metadata": {
    "colab": {},
    "colab_type": "code",
    "id": "tKb4d2yBE3SX"
   },
   "outputs": [],
   "source": [
    "pd.read_hdf('foo.h5','df')"
   ]
  },
  {
   "cell_type": "code",
   "execution_count": null,
   "id": "elementary-blowing",
   "metadata": {},
   "outputs": [],
   "source": [
    "try:\n",
    "    df = pd.read_csv('data/housing.csv')\n",
    "except Exception as e:\n",
    "    print(e)"
   ]
  },
  {
   "cell_type": "code",
   "execution_count": null,
   "id": "dated-tamil",
   "metadata": {},
   "outputs": [],
   "source": [
    "! head data/housing.csv"
   ]
  },
  {
   "cell_type": "code",
   "execution_count": null,
   "id": "flexible-coast",
   "metadata": {},
   "outputs": [],
   "source": [
    "df = pd.read_csv('data/housing.csv', comment='#')\n",
    "\n",
    "df"
   ]
  },
  {
   "cell_type": "markdown",
   "id": "guilty-patch",
   "metadata": {
    "colab_type": "text",
    "id": "gIQL7mltE3Ou"
   },
   "source": [
    "## Viewing Data\n",
    "\n",
    "See the [Basics section](http://pandas.pydata.org/pandas-docs/stable/basics.html#basics) "
   ]
  },
  {
   "cell_type": "markdown",
   "id": "official-cleaners",
   "metadata": {
    "colab_type": "text",
    "id": "FCVjogf6E3Ov"
   },
   "source": [
    "See the top & bottom rows of the frame"
   ]
  },
  {
   "cell_type": "code",
   "execution_count": null,
   "id": "upset-banana",
   "metadata": {
    "colab": {},
    "colab_type": "code",
    "id": "DV8qIpsuE3Ov"
   },
   "outputs": [],
   "source": [
    "df.head()"
   ]
  },
  {
   "cell_type": "code",
   "execution_count": null,
   "id": "opened-matter",
   "metadata": {
    "colab": {},
    "colab_type": "code",
    "id": "zPqvD0TSE3Oy"
   },
   "outputs": [],
   "source": [
    "df.tail(3)"
   ]
  },
  {
   "cell_type": "markdown",
   "id": "liberal-retail",
   "metadata": {
    "colab_type": "text",
    "id": "XeojHDIrE3O1"
   },
   "source": [
    "Display the index, columns, and the underlying numpy data"
   ]
  },
  {
   "cell_type": "code",
   "execution_count": null,
   "id": "entitled-microphone",
   "metadata": {
    "colab": {},
    "colab_type": "code",
    "id": "Tu6k06kNE3O4"
   },
   "outputs": [],
   "source": [
    "df.index"
   ]
  },
  {
   "cell_type": "code",
   "execution_count": null,
   "id": "veterinary-international",
   "metadata": {
    "colab": {},
    "colab_type": "code",
    "id": "xtszy49_E3O8"
   },
   "outputs": [],
   "source": [
    "df.columns"
   ]
  },
  {
   "cell_type": "code",
   "execution_count": null,
   "id": "grand-bride",
   "metadata": {
    "colab": {},
    "colab_type": "code",
    "id": "2JuMpFk-E3PA",
    "scrolled": true
   },
   "outputs": [],
   "source": [
    "df.values"
   ]
  },
  {
   "cell_type": "markdown",
   "id": "likely-thong",
   "metadata": {
    "colab_type": "text",
    "id": "--kIfhxwE3PC"
   },
   "source": [
    "Describe shows a quick statistic summary of your data"
   ]
  },
  {
   "cell_type": "code",
   "execution_count": null,
   "id": "independent-blond",
   "metadata": {
    "colab": {},
    "colab_type": "code",
    "id": "KKPcFNqLE3PD"
   },
   "outputs": [],
   "source": [
    "df.describe()"
   ]
  },
  {
   "cell_type": "markdown",
   "id": "flexible-sponsorship",
   "metadata": {
    "colab_type": "text",
    "id": "KF1iZCz5E3PN"
   },
   "source": [
    "### Getting"
   ]
  },
  {
   "cell_type": "markdown",
   "id": "empirical-dream",
   "metadata": {
    "colab_type": "text",
    "id": "MTfQ_VBkE3PO"
   },
   "source": [
    "Selecting a single column, which yields a Series, equivalent to df.A"
   ]
  },
  {
   "cell_type": "code",
   "execution_count": null,
   "id": "sticky-grace",
   "metadata": {
    "colab": {},
    "colab_type": "code",
    "id": "gQzNKPwAE3PO"
   },
   "outputs": [],
   "source": [
    "df['beds']"
   ]
  },
  {
   "cell_type": "markdown",
   "id": "absent-patrol",
   "metadata": {
    "colab_type": "text",
    "id": "LEQ4mTGoE3PU"
   },
   "source": [
    "Selecting via [], which slices the rows."
   ]
  },
  {
   "cell_type": "code",
   "execution_count": null,
   "id": "dependent-criminal",
   "metadata": {
    "colab": {},
    "colab_type": "code",
    "id": "R5V3SHbGE3PU"
   },
   "outputs": [],
   "source": [
    "df[0:3]"
   ]
  },
  {
   "cell_type": "markdown",
   "id": "behind-remedy",
   "metadata": {
    "colab_type": "text",
    "id": "s1SHWmE2E3PZ"
   },
   "source": [
    "### Selection by Label"
   ]
  },
  {
   "cell_type": "markdown",
   "id": "heated-wiring",
   "metadata": {
    "colab_type": "text",
    "id": "QQ1F28TUE3PZ"
   },
   "source": [
    "For getting a cross section using a label"
   ]
  },
  {
   "cell_type": "code",
   "execution_count": null,
   "id": "conceptual-formula",
   "metadata": {},
   "outputs": [],
   "source": [
    "df.index"
   ]
  },
  {
   "cell_type": "code",
   "execution_count": null,
   "id": "greenhouse-citation",
   "metadata": {
    "colab": {},
    "colab_type": "code",
    "id": "Jo-FJ44IE3Pa"
   },
   "outputs": [],
   "source": [
    "df.loc[df.index[100]]"
   ]
  },
  {
   "cell_type": "markdown",
   "id": "revised-scientist",
   "metadata": {
    "colab_type": "text",
    "id": "3Ne8x7GKE3Pc"
   },
   "source": [
    "Selection by Label"
   ]
  },
  {
   "cell_type": "code",
   "execution_count": null,
   "id": "meaningful-columbus",
   "metadata": {
    "colab": {},
    "colab_type": "code",
    "id": "83DlKz1NE3Pc"
   },
   "outputs": [],
   "source": [
    "df.loc[:,['beds','bath']]"
   ]
  },
  {
   "cell_type": "markdown",
   "id": "unavailable-dispatch",
   "metadata": {
    "colab_type": "text",
    "id": "kaipLSnOE3Pe"
   },
   "source": [
    "Showing label slicing, both endpoints are included"
   ]
  },
  {
   "cell_type": "code",
   "execution_count": null,
   "id": "plastic-utilization",
   "metadata": {
    "colab": {},
    "colab_type": "code",
    "id": "HXT-irifE3Pe"
   },
   "outputs": [],
   "source": [
    "df.loc[10:12,['beds','bath']]"
   ]
  },
  {
   "cell_type": "markdown",
   "id": "annual-labor",
   "metadata": {
    "colab_type": "text",
    "id": "Xi9bRmkzE3Pg"
   },
   "source": [
    "Reduction in the dimensions of the returned object"
   ]
  },
  {
   "cell_type": "code",
   "execution_count": null,
   "id": "hairy-waterproof",
   "metadata": {
    "colab": {},
    "colab_type": "code",
    "id": "ekoqcGaME3Ph"
   },
   "outputs": [],
   "source": [
    "df.loc[10,['beds','bath']]"
   ]
  },
  {
   "cell_type": "markdown",
   "id": "criminal-watts",
   "metadata": {
    "colab_type": "text",
    "id": "e_zqlwPAE3Pj"
   },
   "source": [
    "For getting a scalar value"
   ]
  },
  {
   "cell_type": "code",
   "execution_count": null,
   "id": "contained-viking",
   "metadata": {
    "colab": {},
    "colab_type": "code",
    "id": "rdT91EfME3Pj"
   },
   "outputs": [],
   "source": [
    "df.loc[10, 'beds']"
   ]
  },
  {
   "cell_type": "markdown",
   "id": "liquid-valuation",
   "metadata": {
    "colab_type": "text",
    "id": "awtIu5-ZE3Pl"
   },
   "source": [
    "### Selection by Position\n",
    "\n",
    "See more in [Selection by Position](http://pandas.pydata.org/pandas-docs/stable/indexing.html#indexing-integer)"
   ]
  },
  {
   "cell_type": "markdown",
   "id": "limited-expansion",
   "metadata": {
    "colab_type": "text",
    "id": "4KZpPjqHE3Pm"
   },
   "source": [
    "Select via the position of the passed integers"
   ]
  },
  {
   "cell_type": "code",
   "execution_count": null,
   "id": "forbidden-sculpture",
   "metadata": {
    "colab": {},
    "colab_type": "code",
    "id": "i4tfR5mZE3Pm"
   },
   "outputs": [],
   "source": [
    "df.iloc[3]"
   ]
  },
  {
   "cell_type": "markdown",
   "id": "unavailable-partner",
   "metadata": {
    "colab_type": "text",
    "id": "7eENKeIIE3Pr"
   },
   "source": [
    "By integer slices, acting similar to numpy/python"
   ]
  },
  {
   "cell_type": "code",
   "execution_count": null,
   "id": "settled-arlington",
   "metadata": {
    "colab": {},
    "colab_type": "code",
    "id": "kWUhECkSE3Ps"
   },
   "outputs": [],
   "source": [
    "df.iloc[3:5,0:2]"
   ]
  },
  {
   "cell_type": "markdown",
   "id": "arbitrary-thanks",
   "metadata": {
    "colab_type": "text",
    "id": "RzHAja2CE3Pw"
   },
   "source": [
    "By lists of integer position locations, similar to the numpy/python style"
   ]
  },
  {
   "cell_type": "code",
   "execution_count": null,
   "id": "fifteen-albany",
   "metadata": {
    "colab": {},
    "colab_type": "code",
    "id": "50oFb3WME3Pw"
   },
   "outputs": [],
   "source": [
    "df.iloc[[1,2,4],[0,2]]"
   ]
  },
  {
   "cell_type": "markdown",
   "id": "identified-emerald",
   "metadata": {
    "colab_type": "text",
    "id": "Okh3E6SiE3Pz"
   },
   "source": [
    "For slicing rows explicitly"
   ]
  },
  {
   "cell_type": "code",
   "execution_count": null,
   "id": "mechanical-blend",
   "metadata": {
    "colab": {},
    "colab_type": "code",
    "id": "IlHkjYA0E3P0"
   },
   "outputs": [],
   "source": [
    "df.iloc[1:3,:]"
   ]
  },
  {
   "cell_type": "markdown",
   "id": "surrounded-naples",
   "metadata": {
    "colab_type": "text",
    "id": "cHU6InluE3P3"
   },
   "source": [
    "For slicing columns explicitly"
   ]
  },
  {
   "cell_type": "code",
   "execution_count": null,
   "id": "legal-perfume",
   "metadata": {
    "colab": {},
    "colab_type": "code",
    "id": "qy_dtAA4E3P3"
   },
   "outputs": [],
   "source": [
    "df.iloc[:,1:3]"
   ]
  },
  {
   "cell_type": "markdown",
   "id": "expressed-management",
   "metadata": {
    "colab_type": "text",
    "id": "jI3MgTiCE3P5"
   },
   "source": [
    "For getting a value explicitly"
   ]
  },
  {
   "cell_type": "code",
   "execution_count": null,
   "id": "occasional-mainland",
   "metadata": {
    "colab": {},
    "colab_type": "code",
    "id": "rwsMwHQWE3P5"
   },
   "outputs": [],
   "source": [
    "df.iloc[1,1]"
   ]
  },
  {
   "cell_type": "markdown",
   "id": "multiple-relay",
   "metadata": {
    "colab_type": "text",
    "id": "sfyF7yKFE3P8"
   },
   "source": [
    "For getting fast access to a scalar (equiv to the prior method)"
   ]
  },
  {
   "cell_type": "code",
   "execution_count": null,
   "id": "tutorial-vulnerability",
   "metadata": {
    "colab": {},
    "colab_type": "code",
    "id": "hr0pZmWaE3P9"
   },
   "outputs": [],
   "source": [
    "df.iat[1,1]"
   ]
  },
  {
   "cell_type": "markdown",
   "id": "static-seventh",
   "metadata": {
    "colab_type": "text",
    "id": "38qPfe9RE3P_"
   },
   "source": [
    "## Boolean Indexing"
   ]
  },
  {
   "cell_type": "markdown",
   "id": "floating-centre",
   "metadata": {
    "colab_type": "text",
    "id": "A-sIS5hDE3P_"
   },
   "source": [
    "Using a single column’s values to select data."
   ]
  },
  {
   "cell_type": "code",
   "execution_count": null,
   "id": "contained-consolidation",
   "metadata": {
    "colab": {},
    "colab_type": "code",
    "id": "pjl3eAscE3QA",
    "scrolled": true
   },
   "outputs": [],
   "source": [
    "df[df.beds > 7]"
   ]
  },
  {
   "cell_type": "markdown",
   "id": "smaller-litigation",
   "metadata": {
    "colab_type": "text",
    "id": "k8QysfXKE3QC"
   },
   "source": [
    "A where operation for getting."
   ]
  },
  {
   "cell_type": "code",
   "execution_count": null,
   "id": "suffering-corporation",
   "metadata": {
    "colab": {},
    "colab_type": "code",
    "id": "WYSc3k7DE3QC"
   },
   "outputs": [],
   "source": [
    "df[df > 0]"
   ]
  },
  {
   "cell_type": "markdown",
   "id": "systematic-patrol",
   "metadata": {
    "colab_type": "text",
    "id": "jifMPjyjE3QE"
   },
   "source": [
    "Using the isin() method for filtering:"
   ]
  },
  {
   "cell_type": "code",
   "execution_count": null,
   "id": "isolated-lawrence",
   "metadata": {
    "colab": {},
    "colab_type": "code",
    "id": "r70BOT8dE3QF",
    "scrolled": true
   },
   "outputs": [],
   "source": [
    "df2 = df.copy()"
   ]
  },
  {
   "cell_type": "code",
   "execution_count": null,
   "id": "understood-utility",
   "metadata": {
    "colab": {},
    "colab_type": "code",
    "id": "kyRTLJhXE3QG"
   },
   "outputs": [],
   "source": [
    "try:\n",
    "    df2['E'] = ['one','one', 'two','three','four','three']\n",
    "except Exception as e:\n",
    "    print(e)"
   ]
  },
  {
   "cell_type": "code",
   "execution_count": null,
   "id": "adapted-headquarters",
   "metadata": {
    "colab": {},
    "colab_type": "code",
    "id": "_4ErQEnFE3QH"
   },
   "outputs": [],
   "source": [
    "df2['E'] = range(0, 2*492,2)\n",
    "df2"
   ]
  },
  {
   "cell_type": "code",
   "execution_count": null,
   "id": "norman-clock",
   "metadata": {
    "colab": {},
    "colab_type": "code",
    "id": "mKp81krME3QJ"
   },
   "outputs": [],
   "source": [
    "df2[df2['E'].isin([10,20,30])]"
   ]
  },
  {
   "cell_type": "markdown",
   "id": "compressed-flower",
   "metadata": {},
   "source": [
    "## Data Cleansing\n",
    "\n",
    "<img src=\"https://materials.s3.amazonaws.com/i/Data-Cleansing-tool.jpg\" width=500>\n",
    "\n",
    "__Typical Problems__\n",
    "* Incomplete records / missing values\n",
    "* Duplicate (or partial duplicate) records\n",
    "* Impossible values\n",
    "* Values that violate business rules\n",
    "* Sampling/distribution problem\n",
    "* Skewed values\n",
    "\n",
    "__Approaches to Cleansing/Repair__\n",
    "* Dropping records\n",
    "* Repairing values from alternate sources\n",
    "* Imputing values\n",
    "* Upsampling/downsampling/stratified sampling\n",
    "* Deskewing calculations\n",
    "* Normalization (scale to 0-1) / standardization (mean 0, sd 1)\n",
    "\n",
    "__BEWARE!__\n",
    "\n",
    "*Cleansing your data is like doing surgery: if you get it right, everyone will be happy ... and may not even notice anything happened.*\n",
    "\n",
    "*But: if you don't understand the data and problems thoroughly, and if you are not thoughtful about the effect of your intervention, you can create worse problems:*\n",
    "* System crashes\n",
    "* Financial (business) losses due to poor human or machine decision-making from the data\n",
    "* Legal liability for your company, your business unit, or yourself, due to violation of US or EU law around privacy, discrimination, accounting rules, etc."
   ]
  }
 ],
 "metadata": {
  "kernelspec": {
   "display_name": "Python 3",
   "language": "python",
   "name": "python3"
  },
  "language_info": {
   "codemirror_mode": {
    "name": "ipython",
    "version": 3
   },
   "file_extension": ".py",
   "mimetype": "text/x-python",
   "name": "python",
   "nbconvert_exporter": "python",
   "pygments_lexer": "ipython3",
   "version": "3.8.6"
  }
 },
 "nbformat": 4,
 "nbformat_minor": 5
}
