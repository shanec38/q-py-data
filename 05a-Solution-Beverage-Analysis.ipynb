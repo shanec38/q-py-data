{
 "cells": [
  {
   "cell_type": "markdown",
   "metadata": {
    "colab_type": "text",
    "id": "cABlcPbEl2dj"
   },
   "source": [
    "# BEvERage Analysis\n",
    "\n",
    "In this lab, we'll practice using Pandas by exploring a dataset of beer reviews. \n",
    "\n",
    "First we'll retrieve a small slice of the data. The full beer review dataset is surprisingly large ... or maybe not that surprising, since it seems like the kind of job that would be hard to give up so long as one more beer was out there :)\n",
    "\n",
    "First we'll import Pandas and retrieve the data:"
   ]
  },
  {
   "cell_type": "code",
   "execution_count": null,
   "metadata": {
    "colab": {},
    "colab_type": "code",
    "id": "daYf92qO_lh6"
   },
   "outputs": [],
   "source": [
    "import pandas as pd"
   ]
  },
  {
   "cell_type": "code",
   "execution_count": null,
   "metadata": {
    "colab": {
     "base_uri": "https://localhost:8080/",
     "height": 1000
    },
    "colab_type": "code",
    "executionInfo": {
     "elapsed": 2737,
     "status": "ok",
     "timestamp": 1563811627251,
     "user": {
      "displayName": "Adam Breindel",
      "photoUrl": "https://lh4.googleusercontent.com/-bOMoOQjzXo0/AAAAAAAAAAI/AAAAAAAAARo/r12g8sCZb-s/s64/photo.jpg",
      "userId": "08838609499189722630"
     },
     "user_tz": 420
    },
    "id": "YczFxJov_vks",
    "outputId": "fe16f531-d4f2-4ad9-d96b-c2e5070d4412"
   },
   "outputs": [],
   "source": [
    "df = pd.read_csv('data/beer_small.csv')\n",
    "\n",
    "df"
   ]
  },
  {
   "cell_type": "markdown",
   "metadata": {
    "colab_type": "text",
    "id": "szIhoOFdmkhJ"
   },
   "source": [
    "How many reviews are there?"
   ]
  },
  {
   "cell_type": "code",
   "execution_count": null,
   "metadata": {
    "colab": {
     "base_uri": "https://localhost:8080/",
     "height": 34
    },
    "colab_type": "code",
    "executionInfo": {
     "elapsed": 2733,
     "status": "ok",
     "timestamp": 1563811627252,
     "user": {
      "displayName": "Adam Breindel",
      "photoUrl": "https://lh4.googleusercontent.com/-bOMoOQjzXo0/AAAAAAAAAAI/AAAAAAAAARo/r12g8sCZb-s/s64/photo.jpg",
      "userId": "08838609499189722630"
     },
     "user_tz": 420
    },
    "id": "PSgtgvWr_wDq",
    "outputId": "fb089fb8-53af-4a67-975d-94455e182200"
   },
   "outputs": [],
   "source": [
    "len(df)"
   ]
  },
  {
   "cell_type": "markdown",
   "metadata": {
    "colab_type": "text",
    "id": "hEVuHpglmpua"
   },
   "source": [
    "How can we tell if there are missing values?"
   ]
  },
  {
   "cell_type": "code",
   "execution_count": null,
   "metadata": {
    "colab": {
     "base_uri": "https://localhost:8080/",
     "height": 272
    },
    "colab_type": "code",
    "executionInfo": {
     "elapsed": 2729,
     "status": "ok",
     "timestamp": 1563811627253,
     "user": {
      "displayName": "Adam Breindel",
      "photoUrl": "https://lh4.googleusercontent.com/-bOMoOQjzXo0/AAAAAAAAAAI/AAAAAAAAARo/r12g8sCZb-s/s64/photo.jpg",
      "userId": "08838609499189722630"
     },
     "user_tz": 420
    },
    "id": "aBuxeL_8_1EL",
    "outputId": "02ac5cdc-d19a-48ee-de76-a04909d42b8d"
   },
   "outputs": [],
   "source": [
    "df.count()"
   ]
  },
  {
   "cell_type": "markdown",
   "metadata": {
    "colab_type": "text",
    "id": "XFeUtBwhmzAk"
   },
   "source": [
    "Since most reviews have data for most fields, let's drop the records with incomplete data"
   ]
  },
  {
   "cell_type": "code",
   "execution_count": null,
   "metadata": {
    "colab": {},
    "colab_type": "code",
    "id": "fDvu2JFS_2e0"
   },
   "outputs": [],
   "source": [
    "df2 = df.dropna()"
   ]
  },
  {
   "cell_type": "code",
   "execution_count": null,
   "metadata": {
    "colab": {
     "base_uri": "https://localhost:8080/",
     "height": 272
    },
    "colab_type": "code",
    "executionInfo": {
     "elapsed": 2894,
     "status": "ok",
     "timestamp": 1563811627428,
     "user": {
      "displayName": "Adam Breindel",
      "photoUrl": "https://lh4.googleusercontent.com/-bOMoOQjzXo0/AAAAAAAAAAI/AAAAAAAAARo/r12g8sCZb-s/s64/photo.jpg",
      "userId": "08838609499189722630"
     },
     "user_tz": 420
    },
    "id": "7CtQ0MDDm6Z1",
    "outputId": "bc4122ef-c5a2-41ce-ede3-706c8a9cbd33"
   },
   "outputs": [],
   "source": [
    "df2.count()"
   ]
  },
  {
   "cell_type": "markdown",
   "metadata": {
    "colab_type": "text",
    "id": "MpDFaemYm_uL"
   },
   "source": [
    "Let's get summary statistics for the numeric columns ... things like review score and ABV"
   ]
  },
  {
   "cell_type": "code",
   "execution_count": null,
   "metadata": {
    "colab": {
     "base_uri": "https://localhost:8080/",
     "height": 297
    },
    "colab_type": "code",
    "executionInfo": {
     "elapsed": 3158,
     "status": "ok",
     "timestamp": 1563811627698,
     "user": {
      "displayName": "Adam Breindel",
      "photoUrl": "https://lh4.googleusercontent.com/-bOMoOQjzXo0/AAAAAAAAAAI/AAAAAAAAARo/r12g8sCZb-s/s64/photo.jpg",
      "userId": "08838609499189722630"
     },
     "user_tz": 420
    },
    "id": "HGrg_2hnm7bs",
    "outputId": "62f7cb5e-6c3f-4f4e-852c-dd316b7d4224"
   },
   "outputs": [],
   "source": [
    "df2.describe()"
   ]
  },
  {
   "cell_type": "markdown",
   "metadata": {
    "colab_type": "text",
    "id": "7nC8dBxtnJy2"
   },
   "source": [
    "There are some really low-alcohol beers in there ... maybe even bogus data.\n",
    "\n",
    "Find all entries with ABV less than 1%"
   ]
  },
  {
   "cell_type": "code",
   "execution_count": null,
   "metadata": {
    "colab": {
     "base_uri": "https://localhost:8080/",
     "height": 1000
    },
    "colab_type": "code",
    "executionInfo": {
     "elapsed": 3152,
     "status": "ok",
     "timestamp": 1563811627699,
     "user": {
      "displayName": "Adam Breindel",
      "photoUrl": "https://lh4.googleusercontent.com/-bOMoOQjzXo0/AAAAAAAAAAI/AAAAAAAAARo/r12g8sCZb-s/s64/photo.jpg",
      "userId": "08838609499189722630"
     },
     "user_tz": 420
    },
    "id": "Z1CcqFn8nF-i",
    "outputId": "3e11e9aa-8948-42ae-8995-24b87c733f0c"
   },
   "outputs": [],
   "source": [
    "low_abv = df2[df2.beer_abv < 1]\n",
    "\n",
    "low_abv"
   ]
  },
  {
   "cell_type": "markdown",
   "metadata": {
    "colab_type": "text",
    "id": "9V3yyGMtniaG"
   },
   "source": [
    "How many of these reviews are there?"
   ]
  },
  {
   "cell_type": "code",
   "execution_count": null,
   "metadata": {
    "colab": {
     "base_uri": "https://localhost:8080/",
     "height": 34
    },
    "colab_type": "code",
    "executionInfo": {
     "elapsed": 3148,
     "status": "ok",
     "timestamp": 1563811627700,
     "user": {
      "displayName": "Adam Breindel",
      "photoUrl": "https://lh4.googleusercontent.com/-bOMoOQjzXo0/AAAAAAAAAAI/AAAAAAAAARo/r12g8sCZb-s/s64/photo.jpg",
      "userId": "08838609499189722630"
     },
     "user_tz": 420
    },
    "id": "fgD-x03CnTY8",
    "outputId": "bc50b442-0c8a-49a2-f0a5-c82bc23c6fcd"
   },
   "outputs": [],
   "source": [
    "len(low_abv)"
   ]
  },
  {
   "cell_type": "markdown",
   "metadata": {
    "colab_type": "text",
    "id": "sUMswWNQnnWt"
   },
   "source": [
    "Some of these are multiple reviews for the same beer, which is allowed (and even encouraged). Let's group by beer and count."
   ]
  },
  {
   "cell_type": "code",
   "execution_count": null,
   "metadata": {
    "colab": {
     "base_uri": "https://localhost:8080/",
     "height": 510
    },
    "colab_type": "code",
    "executionInfo": {
     "elapsed": 3143,
     "status": "ok",
     "timestamp": 1563811627701,
     "user": {
      "displayName": "Adam Breindel",
      "photoUrl": "https://lh4.googleusercontent.com/-bOMoOQjzXo0/AAAAAAAAAAI/AAAAAAAAARo/r12g8sCZb-s/s64/photo.jpg",
      "userId": "08838609499189722630"
     },
     "user_tz": 420
    },
    "id": "lE07kGWRnlgD",
    "outputId": "67a63692-6b9d-4d20-bd14-e19f287f9876"
   },
   "outputs": [],
   "source": [
    "grouping = low_abv.groupby('beer_name')\n",
    "grouping.size()"
   ]
  },
  {
   "cell_type": "markdown",
   "metadata": {
    "colab_type": "text",
    "id": "_GJw0y9ko2vb"
   },
   "source": [
    "How consistent are the O'Douls overall scores?"
   ]
  },
  {
   "cell_type": "code",
   "execution_count": null,
   "metadata": {
    "colab": {
     "base_uri": "https://localhost:8080/",
     "height": 289
    },
    "colab_type": "code",
    "executionInfo": {
     "elapsed": 3137,
     "status": "ok",
     "timestamp": 1563811627702,
     "user": {
      "displayName": "Adam Breindel",
      "photoUrl": "https://lh4.googleusercontent.com/-bOMoOQjzXo0/AAAAAAAAAAI/AAAAAAAAARo/r12g8sCZb-s/s64/photo.jpg",
      "userId": "08838609499189722630"
     },
     "user_tz": 420
    },
    "id": "6IYu8cimnysJ",
    "outputId": "2f3f21b9-7439-4ece-8c5f-0d5d8cc0187d"
   },
   "outputs": [],
   "source": [
    "scores = low_abv[low_abv.beer_name==\"O'Doul's\"]['review_overall']\n",
    "scores"
   ]
  },
  {
   "cell_type": "markdown",
   "metadata": {
    "colab_type": "text",
    "id": "Eav0-yydpN3p"
   },
   "source": [
    "Let's plot a histogram"
   ]
  },
  {
   "cell_type": "code",
   "execution_count": null,
   "metadata": {
    "colab": {
     "base_uri": "https://localhost:8080/",
     "height": 286
    },
    "colab_type": "code",
    "executionInfo": {
     "elapsed": 3347,
     "status": "ok",
     "timestamp": 1563811627918,
     "user": {
      "displayName": "Adam Breindel",
      "photoUrl": "https://lh4.googleusercontent.com/-bOMoOQjzXo0/AAAAAAAAAAI/AAAAAAAAARo/r12g8sCZb-s/s64/photo.jpg",
      "userId": "08838609499189722630"
     },
     "user_tz": 420
    },
    "id": "zvPHQoVno_Mv",
    "outputId": "00499d6c-f985-4f2b-ff03-7e20a6d7fb24"
   },
   "outputs": [],
   "source": [
    "scores.hist()"
   ]
  },
  {
   "cell_type": "markdown",
   "metadata": {
    "colab_type": "text",
    "id": "9MfIBLAbpYSp"
   },
   "source": [
    "What are the mean and sd for the O'Doul's overall scores?"
   ]
  },
  {
   "cell_type": "code",
   "execution_count": null,
   "metadata": {
    "colab": {
     "base_uri": "https://localhost:8080/",
     "height": 34
    },
    "colab_type": "code",
    "executionInfo": {
     "elapsed": 3489,
     "status": "ok",
     "timestamp": 1563811628066,
     "user": {
      "displayName": "Adam Breindel",
      "photoUrl": "https://lh4.googleusercontent.com/-bOMoOQjzXo0/AAAAAAAAAAI/AAAAAAAAARo/r12g8sCZb-s/s64/photo.jpg",
      "userId": "08838609499189722630"
     },
     "user_tz": 420
    },
    "id": "Os6dqMgNpNAV",
    "outputId": "1bdf1589-a781-484a-850e-6e3437511817"
   },
   "outputs": [],
   "source": [
    "scores.mean(), scores.std()"
   ]
  },
  {
   "cell_type": "markdown",
   "metadata": {
    "colab_type": "text",
    "id": "-_P9KB1ypl1y"
   },
   "source": [
    "In the full dataset, can we count beers by brewery, and then by style within that brewery?"
   ]
  },
  {
   "cell_type": "code",
   "execution_count": null,
   "metadata": {
    "colab": {
     "base_uri": "https://localhost:8080/",
     "height": 1000
    },
    "colab_type": "code",
    "executionInfo": {
     "elapsed": 3484,
     "status": "ok",
     "timestamp": 1563811628067,
     "user": {
      "displayName": "Adam Breindel",
      "photoUrl": "https://lh4.googleusercontent.com/-bOMoOQjzXo0/AAAAAAAAAAI/AAAAAAAAARo/r12g8sCZb-s/s64/photo.jpg",
      "userId": "08838609499189722630"
     },
     "user_tz": 420
    },
    "id": "r0gVxucCpRxV",
    "outputId": "a1a20084-23dd-477d-978b-8a7ffb9cac82"
   },
   "outputs": [],
   "source": [
    "df2.groupby(['brewery_name', 'beer_style']).size()"
   ]
  },
  {
   "cell_type": "markdown",
   "metadata": {
    "colab_type": "text",
    "id": "evW99OPdeGTi"
   },
   "source": [
    "### Now we'll try and build up a slightly more complex report\n",
    "\n",
    "Step 1: Find all rows corresponsing to reviews where the beer style starts with \"American\""
   ]
  },
  {
   "cell_type": "code",
   "execution_count": null,
   "metadata": {
    "colab": {
     "base_uri": "https://localhost:8080/",
     "height": 1000
    },
    "colab_type": "code",
    "executionInfo": {
     "elapsed": 501,
     "status": "ok",
     "timestamp": 1563812272750,
     "user": {
      "displayName": "Adam Breindel",
      "photoUrl": "https://lh4.googleusercontent.com/-bOMoOQjzXo0/AAAAAAAAAAI/AAAAAAAAARo/r12g8sCZb-s/s64/photo.jpg",
      "userId": "08838609499189722630"
     },
     "user_tz": 420
    },
    "id": "KQ0I54mweRh_",
    "outputId": "74a8697d-88c2-486e-9939-87acc955c8df"
   },
   "outputs": [],
   "source": [
    "all_american = df2[df2.beer_style.str.startswith('American')]\n",
    "all_american"
   ]
  },
  {
   "cell_type": "markdown",
   "metadata": {
    "colab_type": "text",
    "id": "zTSS1H1AecYd"
   },
   "source": [
    "Next, make a dataframe with just the `beer_style` and `review_overall` fields for those rows."
   ]
  },
  {
   "cell_type": "code",
   "execution_count": null,
   "metadata": {
    "colab": {
     "base_uri": "https://localhost:8080/",
     "height": 1000
    },
    "colab_type": "code",
    "executionInfo": {
     "elapsed": 359,
     "status": "ok",
     "timestamp": 1563812329720,
     "user": {
      "displayName": "Adam Breindel",
      "photoUrl": "https://lh4.googleusercontent.com/-bOMoOQjzXo0/AAAAAAAAAAI/AAAAAAAAARo/r12g8sCZb-s/s64/photo.jpg",
      "userId": "08838609499189722630"
     },
     "user_tz": 420
    },
    "id": "H6HDs5WJejtj",
    "outputId": "2209c329-36e8-402b-a6e3-8b54e006a788"
   },
   "outputs": [],
   "source": [
    "narrowed = all_american[['beer_style', 'review_overall']]\n",
    "narrowed"
   ]
  },
  {
   "cell_type": "markdown",
   "metadata": {
    "colab_type": "text",
    "id": "nE0CsERyeovC"
   },
   "source": [
    "Now we'll make a boxplot to capture the range and variance of the ratings. Pandas will do all the work is we call the built-in API. Look for it here: https://pandas.pydata.org/pandas-docs/stable/user_guide/visualization.html"
   ]
  },
  {
   "cell_type": "code",
   "execution_count": null,
   "metadata": {
    "colab": {
     "base_uri": "https://localhost:8080/",
     "height": 677
    },
    "colab_type": "code",
    "executionInfo": {
     "elapsed": 1204,
     "status": "ok",
     "timestamp": 1563812420316,
     "user": {
      "displayName": "Adam Breindel",
      "photoUrl": "https://lh4.googleusercontent.com/-bOMoOQjzXo0/AAAAAAAAAAI/AAAAAAAAARo/r12g8sCZb-s/s64/photo.jpg",
      "userId": "08838609499189722630"
     },
     "user_tz": 420
    },
    "id": "XdYvJnNv59F-",
    "outputId": "bc717a11-5124-4dba-f4bb-b1dec506890c"
   },
   "outputs": [],
   "source": [
    "narrowed.boxplot(by='beer_style', vert=False, figsize=(12,10))"
   ]
  }
 ],
 "metadata": {
  "colab": {
   "collapsed_sections": [],
   "name": "05-Beverage-Analysis",
   "provenance": [],
   "version": "0.3.2"
  },
  "kernelspec": {
   "display_name": "Python 3",
   "language": "python",
   "name": "python3"
  },
  "language_info": {
   "codemirror_mode": {
    "name": "ipython",
    "version": 3
   },
   "file_extension": ".py",
   "mimetype": "text/x-python",
   "name": "python",
   "nbconvert_exporter": "python",
   "pygments_lexer": "ipython3",
   "version": "3.8.6"
  }
 },
 "nbformat": 4,
 "nbformat_minor": 4
}
